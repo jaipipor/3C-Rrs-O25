{
 "cells": [
  {
   "cell_type": "markdown",
   "id": "5cc6270e",
   "metadata": {},
   "source": [
    "# 03 — Parameter Analysis & Diagnostics\n",
    "\n",
    "Open the NetCDF created by the processing notebook and explore fitted results."
   ]
  },
  {
   "cell_type": "code",
   "execution_count": null,
   "id": "e387ac40",
   "metadata": {},
   "outputs": [],
   "source": [
    "import sys\n",
    "from pathlib import Path\n",
    "sys.path.insert(0, str(Path.cwd().joinpath('src')))\n",
    "\n",
    "import numpy as np\n",
    "import xarray as xr\n",
    "import matplotlib.pyplot as plt\n",
    "\n",
    "print('imports OK')"
   ]
  },
  {
   "cell_type": "code",
   "execution_count": null,
   "id": "ca2d6cba",
   "metadata": {},
   "outputs": [],
   "source": [
    "nc = Path('examples') / 'Rrs_timeseries_demo.nc'\n",
    "if not nc.exists():\n",
    "    raise FileNotFoundError('Run the Time-Series Processing notebook first to create the demo NetCDF')\n",
    "\n",
    "ds = xr.open_dataset(nc)\n",
    "wl = ds.wavelength.values\n",
    "times = ds.time.values\n",
    "print('Loaded dataset with wavelengths:', wl.size)"
   ]
  },
  {
   "cell_type": "markdown",
   "id": "992e21cb",
   "metadata": {},
   "source": [
    "## Simple diagnostics: time series & histogram at 550 nm"
   ]
  },
  {
   "cell_type": "code",
   "execution_count": null,
   "id": "2aa9026a",
   "metadata": {},
   "outputs": [],
   "source": [
    "idx550 = int(np.argmin(np.abs(wl - 550)))\n",
    "Rrs_mod = ds.Rrs_mod.values\n",
    "Es = ds.Es.values\n",
    "\n",
    "plt.figure(figsize=(10,4))\n",
    "plt.plot(times, Rrs_mod[:, idx550], 'b.-', label='Rrs_mod@550')\n",
    "plt.plot(times, Es[:, idx550], 'k.-', label='Es@550')\n",
    "plt.legend()\n",
    "plt.grid(True)\n",
    "plt.show()"
   ]
  },
  {
   "cell_type": "code",
   "execution_count": null,
   "id": "4b2186a4",
   "metadata": {},
   "outputs": [],
   "source": [
    "plt.figure(figsize=(6,4))\n",
    "plt.hist(Rrs_mod[:, idx550][~np.isnan(Rrs_mod[:, idx550])], bins=25, edgecolor='k')\n",
    "plt.xlabel('Rrs_mod @ 550 nm')\n",
    "plt.ylabel('Count')\n",
    "plt.title('Histogram of modeled Rrs at 550 nm')\n",
    "plt.show()"
   ]
  },
  {
   "cell_type": "markdown",
   "id": "07a68504",
   "metadata": {},
   "source": [
    "## Next steps and suggestions\n",
    "\n",
    "- Plot residuals over time; compare fitted parameters (rho_s, rho_d) if you stored them.\n",
    "- Compute summary statistics for each parameter and produce a small CSV for reporting."
   ]
  }
 ],
 "metadata": {
  "kernelspec": {
   "display_name": "Python 3 (ipykernel)",
   "language": "python",
   "name": "python3"
  },
  "language_info": {
   "codemirror_mode": {
    "name": "ipython",
    "version": 3
   },
   "file_extension": ".py",
   "mimetype": "text/x-python",
   "name": "python",
   "nbconvert_exporter": "python",
   "pygments_lexer": "ipython3",
   "version": "3.13.3"
  }
 },
 "nbformat": 4,
 "nbformat_minor": 5
}
